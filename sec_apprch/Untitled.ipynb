{
 "cells": [
  {
   "cell_type": "code",
   "execution_count": 1,
   "id": "b5ab39e1-ffb5-4f24-ba21-afffef69f5dc",
   "metadata": {
    "vscode": {
     "languageId": "r"
    }
   },
   "outputs": [
    {
     "name": "stdout",
     "output_type": "stream",
     "text": [
      "\u001b[34mDATA\u001b[m\u001b[m             analysis_2.R     notebook.nb.html var.md\n",
      "README.md        \u001b[34marchived\u001b[m\u001b[m         \u001b[34mrsconnect\u001b[m\u001b[m\n",
      "Untitled.ipynb   data_prep_xl.R   sec_apprch.Rproj\n",
      "analysis.xlsx    notebook.html    second.R\n"
     ]
    }
   ],
   "source": [
    "!ls"
   ]
  },
  {
   "cell_type": "code",
   "execution_count": 1,
   "id": "17fca023-7ad0-4d95-9e71-2c03937a08dd",
   "metadata": {
    "vscode": {
     "languageId": "r"
    }
   },
   "outputs": [],
   "source": [
    "import pandas as pd\n",
    "import numpy as np"
   ]
  },
  {
   "cell_type": "code",
   "execution_count": 6,
   "id": "826f5b91-2de9-4009-a9c3-577cc8bd19ef",
   "metadata": {
    "vscode": {
     "languageId": "r"
    }
   },
   "outputs": [
    {
     "name": "stderr",
     "output_type": "stream",
     "text": [
      "/var/folders/0y/bnh8rvg11rd93vjf0f787p980000gn/T/ipykernel_42841/946721879.py:1: DtypeWarning: Columns (6,7,8,9,10,14,15,18,20) have mixed types. Specify dtype option on import or set low_memory=False.\n",
      "  big_file = pd.read_csv(\"~/Documents/GitHub/Data_Analysis/air_qu/first_apprch/DATA/stripping_data/big files/file.csv\")\n"
     ]
    }
   ],
   "source": [
    "big_file = pd.read_csv(\"~/Documents/GitHub/Data_Analysis/air_qu/first_apprch/DATA/stripping_data/big files/file.csv\")"
   ]
  },
  {
   "cell_type": "code",
   "execution_count": 7,
   "id": "9b03b0f6-86ef-4041-bf24-c517bc41fe9c",
   "metadata": {
    "vscode": {
     "languageId": "r"
    }
   },
   "outputs": [
    {
     "data": {
      "text/plain": [
       "Index(['SiteName', 'County', 'AQI', 'Pollutant', 'Status', 'SO2', 'CO', 'O3',\n",
       "       'O3_8hr', 'PM10', 'PM2.5', 'NO2', 'NOx', 'NO', 'WindSpeed', 'WindDirec',\n",
       "       'DataCreationDate', 'Unit', 'CO_8hr', 'PM2.5_AVG', 'PM10_AVG',\n",
       "       'SO2_AVG', 'Longitude', 'Latitude', 'SiteId'],\n",
       "      dtype='object')"
      ]
     },
     "execution_count": 7,
     "metadata": {},
     "output_type": "execute_result"
    }
   ],
   "source": [
    "big_file.columns"
   ]
  },
  {
   "cell_type": "code",
   "execution_count": 8,
   "id": "390e1479-c9de-4ed6-92e1-25970e55337d",
   "metadata": {
    "vscode": {
     "languageId": "r"
    }
   },
   "outputs": [
    {
     "name": "stderr",
     "output_type": "stream",
     "text": [
      "/var/folders/0y/bnh8rvg11rd93vjf0f787p980000gn/T/ipykernel_42841/3423051527.py:6: FutureWarning: Dropping of nuisance columns in DataFrame reductions (with 'numeric_only=None') is deprecated; in a future version this will raise TypeError.  Select only valid columns before calling the reduction.\n",
      "  V = v.max() + ' - ' + v.min()\n",
      "/var/folders/0y/bnh8rvg11rd93vjf0f787p980000gn/T/ipykernel_42841/3423051527.py:8: FutureWarning: The series.append method is deprecated and will be removed from pandas in a future version. Use pandas.concat instead.\n",
      "  U.append(V)\n"
     ]
    },
    {
     "data": {
      "text/plain": [
       "AQI                                               501.0\n",
       "SO2                                              1179.0\n",
       "NO2                                              378.83\n",
       "NOx                                               432.6\n",
       "NO                                               398.51\n",
       "Unit                                                NaN\n",
       "PM2.5_AVG                                         246.0\n",
       "SO2_AVG                                            61.0\n",
       "Longitude                                    121.792928\n",
       "Latitude                                      26.160469\n",
       "SiteId                                            312.0\n",
       "SiteName                                        龍潭 - 三義\n",
       "County                                        高雄市 - 南投縣\n",
       "DataCreationDate    2021-12-31 23:00 - 2016-11-25 13:00\n",
       "dtype: object"
      ]
     },
     "execution_count": 8,
     "metadata": {},
     "output_type": "execute_result"
    }
   ],
   "source": [
    "u = big_file.select_dtypes(include=[np.number])\n",
    "# U = u.apply(np.ptp, axis=0)\n",
    "U = u.max() - u.min()\n",
    "\n",
    "v = big_file.select_dtypes(include=[object])\n",
    "V = v.max() + ' - ' + v.min()\n",
    "\n",
    "U.append(V)"
   ]
  },
  {
   "cell_type": "code",
   "execution_count": null,
   "id": "70cf6909-ee3a-459e-a552-03e12368c085",
   "metadata": {
    "vscode": {
     "languageId": "r"
    }
   },
   "outputs": [],
   "source": []
  }
 ],
 "metadata": {
  "kernelspec": {
   "display_name": "R",
   "language": "R",
   "name": "ir"
  },
  "language_info": {
   "codemirror_mode": {
    "name": "ipython",
    "version": 3
   },
   "file_extension": ".py",
   "mimetype": "text/x-python",
   "name": "R",
   "nbconvert_exporter": "python",
   "pygments_lexer": "ipython3",
   "version": "3.8.2"
  }
 },
 "nbformat": 4,
 "nbformat_minor": 5
}
